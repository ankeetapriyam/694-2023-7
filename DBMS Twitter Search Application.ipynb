{
 "cells": [
  {
   "cell_type": "markdown",
   "id": "ca67d7e4",
   "metadata": {},
   "source": [
    "# Reading JSON input file and extracting data"
   ]
  },
  {
   "cell_type": "code",
   "execution_count": 172,
   "id": "5df8993f",
   "metadata": {},
   "outputs": [],
   "source": [
    "import json   \n",
    "import pandas as pd"
   ]
  },
  {
   "cell_type": "code",
   "execution_count": 173,
   "id": "410a0707",
   "metadata": {},
   "outputs": [],
   "source": [
    "f1 = open(\"Sample_Data.json\" , 'r')\n",
    "\n",
    "lines = f1.readlines()\n",
    "\n",
    "tweets = {}\n",
    "tweets['tweets'] = []\n",
    "\n",
    "for line in lines:\n",
    "    if line[0] == '{':\n",
    "        tweets['tweets'].append(json.loads(line)) "
   ]
  },
  {
   "cell_type": "code",
   "execution_count": 174,
   "id": "9446e985",
   "metadata": {},
   "outputs": [],
   "source": [
    "tweet = tweets['tweets']\n",
    "#tweet[0]\n",
    "#tweet[0]['retweeted_status']['user']"
   ]
  },
  {
   "cell_type": "code",
   "execution_count": 175,
   "id": "5af35425",
   "metadata": {},
   "outputs": [],
   "source": [
    "#df_twitter = pd.DataFrame(tweet)"
   ]
  },
  {
   "cell_type": "code",
   "execution_count": 176,
   "id": "0e262c0f",
   "metadata": {},
   "outputs": [],
   "source": [
    "#df_twitter.head(2)"
   ]
  },
  {
   "cell_type": "code",
   "execution_count": 177,
   "id": "c5cde4d1",
   "metadata": {},
   "outputs": [],
   "source": [
    "#df_twitter_user = df_twitter[['user']]\n",
    "#df_twitter_user.head(5)"
   ]
  },
  {
   "cell_type": "code",
   "execution_count": 178,
   "id": "0bfef974",
   "metadata": {},
   "outputs": [
    {
     "data": {
      "text/plain": [
       "'1242817830946508801'"
      ]
     },
     "execution_count": 178,
     "metadata": {},
     "output_type": "execute_result"
    }
   ],
   "source": [
    "tweet[0]['user']['id_str']"
   ]
  },
  {
   "cell_type": "code",
   "execution_count": 179,
   "id": "6cbbfdee",
   "metadata": {},
   "outputs": [
    {
     "data": {
      "text/plain": [
       "2001"
      ]
     },
     "execution_count": 179,
     "metadata": {},
     "output_type": "execute_result"
    }
   ],
   "source": [
    "len(tweet)"
   ]
  },
  {
   "cell_type": "markdown",
   "id": "36409f70",
   "metadata": {},
   "source": [
    "# Connection to postgresql database"
   ]
  },
  {
   "cell_type": "code",
   "execution_count": 180,
   "id": "ea3d4c4f",
   "metadata": {},
   "outputs": [],
   "source": [
    "import psycopg2 # psycopg2 is a PostgreSQL database adapter for the Python , and it provides a Python interface for connecting to and interacting with PostgreSQL databases."
   ]
  },
  {
   "cell_type": "code",
   "execution_count": 181,
   "id": "50f6fb35",
   "metadata": {},
   "outputs": [],
   "source": [
    "\n",
    "# Connect to the PostgreSQL database\n",
    "conn = psycopg2.connect(\n",
    "    host=\"localhost\",\n",
    "    database=\"TwitterDatabase\",\n",
    "    user=\"postgres\",\n",
    "    password=\"India@2194\"\n",
    ")\n"
   ]
  },
  {
   "cell_type": "markdown",
   "id": "7e2bee11",
   "metadata": {},
   "source": [
    "### Creating a cursor object to execute PostgreSQL commands"
   ]
  },
  {
   "cell_type": "code",
   "execution_count": 182,
   "id": "8154a7c6",
   "metadata": {},
   "outputs": [],
   "source": [
    "# Create a cursor object to execute PostgreSQL commands\n",
    "cursor = conn.cursor()"
   ]
  },
  {
   "cell_type": "markdown",
   "id": "b23f32e8",
   "metadata": {},
   "source": [
    "#### Creating a list(cache) to check and avoid adding duplicate records into the database"
   ]
  },
  {
   "cell_type": "code",
   "execution_count": 183,
   "id": "df45bee6",
   "metadata": {},
   "outputs": [],
   "source": [
    "tweet_user_list = list()"
   ]
  },
  {
   "cell_type": "markdown",
   "id": "304240ee",
   "metadata": {},
   "source": [
    "# Inserting input data into the relational database"
   ]
  },
  {
   "cell_type": "code",
   "execution_count": 184,
   "id": "174ab6da",
   "metadata": {},
   "outputs": [
    {
     "name": "stdout",
     "output_type": "stream",
     "text": [
      "Total rows of data available:  2001\n",
      "Inserted_rows_count:  1851\n",
      "Skipped_rows_count:  150\n"
     ]
    }
   ],
   "source": [
    "print(\"Total rows of data available: \",len(tweet))\n",
    "\n",
    "inserted_rows_count = 0\n",
    "Skipped_rows_count = 0\n",
    "\n",
    "user_count = len(tweet)\n",
    "\n",
    "for i in range(0,len(tweet)):\n",
    "    try:\n",
    "        if (tweet[i]['user']['id_str']) not in tweet_user_list:\n",
    "            \n",
    "            \n",
    "            if  user_count > 0 :\n",
    "                \n",
    "            # Inserting user data user field\n",
    "                cursor.execute(\"INSERT INTO users (id_str,screen_name,description,verified,followers_count,friends_count ,listed_count ,favourites_count,statuses_count,created_at ,protected) VALUES (%s, %s, %s, %s, %s, %s, %s, %s, %s, %s, %s)\", (tweet[i]['user']['id_str'],tweet[i]['user']['screen_name'],tweet[i]['user']['description'],tweet[i]['user']['verified'],tweet[i]['user']['followers_count'],tweet[i]['user']['friends_count'],tweet[i]['user']['listed_count'],tweet[i]['user']['favourites_count'],tweet[i]['user']['statuses_count'],tweet[i]['user']['created_at'],tweet[i]['user']['protected'] ))\n",
    "                #print('Record inserted --------------------------------------------------------------------------------->')\n",
    "                tweet_user_list.append(tweet[i]['user']['id_str'])\n",
    "                inserted_rows_count = inserted_rows_count + 1\n",
    "            \n",
    "            # Inserting user data from Retweeted status field\n",
    "            else:                \n",
    "                cursor.execute(\"INSERT INTO users (id_str,screen_name,description,verified,followers_count,friends_count ,listed_count ,favourites_count,statuses_count,created_at ,protected) VALUES (%s, %s, %s, %s, %s, %s, %s, %s, %s, %s, %s)\", (tweet[i]['retweeted_status']['user']['id_str'],tweet[i]['retweeted_status']['user']['screen_name'],tweet[i]['retweeted_status']['user']['description'],tweet[i]['user']['verified'],tweet[i]['retweeted_status']['user']['followers_count'],tweet[i]['retweeted_status']['user']['friends_count'],tweet[i]['retweeted_status']['user']['listed_count'],tweet[i]['retweeted_status']['user']['favourites_count'],tweet[i]['retweeted_status']['user']['statuses_count'],tweet[i]['retweeted_status']['user']['created_at'],tweet[i]['retweeted_status']['user']['protected'] ))\n",
    "                #print('Record inserted --------------------------------------------------------------------------------->')\n",
    "                tweet_user_list.append(tweet[i]['retweeted_status']['user']['id_str'])\n",
    "                inserted_rows_count = inserted_rows_count + 1\n",
    "                      \n",
    "        else:\n",
    "            \n",
    "            Skipped_rows_count = Skipped_rows_count + 1\n",
    "            continue\n",
    "            \n",
    "    except Exception as e:\n",
    "        print(\"Error encountered:\",e)\n",
    "        conn.commit()\n",
    "        # Roll back the transaction\n",
    "        conn.rollback()\n",
    "        continue\n",
    "\n",
    "conn.commit()\n",
    "\n",
    "print(\"Inserted_rows_count: \",inserted_rows_count)\n",
    "print(\"Skipped_rows_count: \",Skipped_rows_count)\n"
   ]
  },
  {
   "cell_type": "code",
   "execution_count": 185,
   "id": "f3793ffd",
   "metadata": {},
   "outputs": [],
   "source": [
    "# Close the cursor and database connection\n",
    "cursor.close()\n",
    "conn.close()\n"
   ]
  },
  {
   "cell_type": "code",
   "execution_count": null,
   "id": "a3f2aa7f",
   "metadata": {},
   "outputs": [],
   "source": []
  }
 ],
 "metadata": {
  "kernelspec": {
   "display_name": "Python 3 (ipykernel)",
   "language": "python",
   "name": "python3"
  },
  "language_info": {
   "codemirror_mode": {
    "name": "ipython",
    "version": 3
   },
   "file_extension": ".py",
   "mimetype": "text/x-python",
   "name": "python",
   "nbconvert_exporter": "python",
   "pygments_lexer": "ipython3",
   "version": "3.9.13"
  }
 },
 "nbformat": 4,
 "nbformat_minor": 5
}
