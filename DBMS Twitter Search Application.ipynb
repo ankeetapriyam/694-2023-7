{
 "cells": [
  {
   "cell_type": "markdown",
   "id": "ca67d7e4",
   "metadata": {},
   "source": [
    "# Reading JSON input file and extracting data"
   ]
  },
  {
   "cell_type": "code",
   "execution_count": 278,
   "id": "5df8993f",
   "metadata": {},
   "outputs": [],
   "source": [
    "import json   \n",
    "import pandas as pd"
   ]
  },
  {
   "cell_type": "code",
   "execution_count": 279,
   "id": "410a0707",
   "metadata": {},
   "outputs": [],
   "source": [
    "f1 = open(\"Corona_02_Split_01.json\" , 'r')\n",
    "\n",
    "lines = f1.readlines()\n",
    "\n",
    "tweets = {}\n",
    "tweets['tweets'] = []\n",
    "\n",
    "for line in lines:\n",
    "    if line[0] == '{':\n",
    "        tweets['tweets'].append(json.loads(line)) "
   ]
  },
  {
   "cell_type": "code",
   "execution_count": 280,
   "id": "9446e985",
   "metadata": {},
   "outputs": [
    {
     "data": {
      "text/plain": [
       "{'id': 1242817830946508801,\n",
       " 'id_str': '1242817830946508801',\n",
       " 'name': 'juwelz v',\n",
       " 'screen_name': 'juwelz_v',\n",
       " 'location': 'Lower East Side, Manhattan',\n",
       " 'url': 'https://linktr.ee/juwelzv',\n",
       " 'description': 'Event Lyfe LLC .. Brand Ambassador: #visionarysociety Music Manager: @ssizzzlee & @tmoneybeatsbang Production🎥📸 #BringNyCultureBack 🌊🌊🌊 !!',\n",
       " 'translator_type': 'none',\n",
       " 'protected': False,\n",
       " 'verified': False,\n",
       " 'followers_count': 43,\n",
       " 'friends_count': 118,\n",
       " 'listed_count': 0,\n",
       " 'favourites_count': 722,\n",
       " 'statuses_count': 906,\n",
       " 'created_at': 'Wed Mar 25 14:17:28 +0000 2020',\n",
       " 'utc_offset': None,\n",
       " 'time_zone': None,\n",
       " 'geo_enabled': False,\n",
       " 'lang': None,\n",
       " 'contributors_enabled': False,\n",
       " 'is_translator': False,\n",
       " 'profile_background_color': 'F5F8FA',\n",
       " 'profile_background_image_url': '',\n",
       " 'profile_background_image_url_https': '',\n",
       " 'profile_background_tile': False,\n",
       " 'profile_link_color': '1DA1F2',\n",
       " 'profile_sidebar_border_color': 'C0DEED',\n",
       " 'profile_sidebar_fill_color': 'DDEEF6',\n",
       " 'profile_text_color': '333333',\n",
       " 'profile_use_background_image': True,\n",
       " 'profile_image_url': 'http://pbs.twimg.com/profile_images/1246253579805089797/Ks1MrEDW_normal.jpg',\n",
       " 'profile_image_url_https': 'https://pbs.twimg.com/profile_images/1246253579805089797/Ks1MrEDW_normal.jpg',\n",
       " 'profile_banner_url': 'https://pbs.twimg.com/profile_banners/1242817830946508801/1585146985',\n",
       " 'default_profile': True,\n",
       " 'default_profile_image': False,\n",
       " 'following': None,\n",
       " 'follow_request_sent': None,\n",
       " 'notifications': None}"
      ]
     },
     "execution_count": 280,
     "metadata": {},
     "output_type": "execute_result"
    }
   ],
   "source": [
    "tweet = tweets['tweets']\n",
    "tweet[0]['user']"
   ]
  },
  {
   "cell_type": "code",
   "execution_count": 281,
   "id": "5af35425",
   "metadata": {},
   "outputs": [],
   "source": [
    "#df_twitter = pd.DataFrame(tweet)"
   ]
  },
  {
   "cell_type": "code",
   "execution_count": 282,
   "id": "0e262c0f",
   "metadata": {},
   "outputs": [],
   "source": [
    "#df_twitter.head(2)"
   ]
  },
  {
   "cell_type": "code",
   "execution_count": 283,
   "id": "c5cde4d1",
   "metadata": {},
   "outputs": [],
   "source": [
    "#df_twitter_user = df_twitter[['user']]\n",
    "#df_twitter_user.head(5)"
   ]
  },
  {
   "cell_type": "markdown",
   "id": "36409f70",
   "metadata": {},
   "source": [
    "# Connection to postgresql database"
   ]
  },
  {
   "cell_type": "code",
   "execution_count": 284,
   "id": "ea3d4c4f",
   "metadata": {},
   "outputs": [],
   "source": [
    "import psycopg2 # psycopg2 is a PostgreSQL database adapter for the Python , and it provides a Python interface for connecting to and interacting with PostgreSQL databases."
   ]
  },
  {
   "cell_type": "code",
   "execution_count": 285,
   "id": "50f6fb35",
   "metadata": {},
   "outputs": [],
   "source": [
    "\n",
    "# Connect to the PostgreSQL database\n",
    "conn = psycopg2.connect(\n",
    "    host=\"localhost\",\n",
    "    database=\"TwitterDatabase\",\n",
    "    user=\"postgres\",\n",
    "    password=\"India@2194\"\n",
    ")\n"
   ]
  },
  {
   "cell_type": "markdown",
   "id": "7e2bee11",
   "metadata": {},
   "source": [
    "### Creating a cursor object to execute PostgreSQL commands"
   ]
  },
  {
   "cell_type": "code",
   "execution_count": 286,
   "id": "8154a7c6",
   "metadata": {},
   "outputs": [],
   "source": [
    "# Create a cursor object to execute PostgreSQL commands\n",
    "cursor = conn.cursor()"
   ]
  },
  {
   "cell_type": "markdown",
   "id": "304240ee",
   "metadata": {},
   "source": [
    "# Inserting input data into the relational database"
   ]
  },
  {
   "cell_type": "code",
   "execution_count": null,
   "id": "0ece17c2",
   "metadata": {},
   "outputs": [],
   "source": [
    "\n",
    "for i in tweet:\n",
    "    cursor.execute(\"INSERT INTO user1 (id_str,screen_name,description,verified ,followers_count,friends_count ,listed_count ,favourites_count ,statuses_count,created_at ,protected) VALUES (%s, %s, %s, %s, %s, %s, %s, %s, %s, %s, %s)\", (tweet[i]['user']['id_str'],tweet[i]['user']['screen_name'],tweet[i]['user']['description'],tweet[i]['user']['verified'],tweet[i]['user']['followers_count'],tweet[i]['user']['friends_count'],tweet[i]['user']['listed_count'],tweet[i]['user']['favourites_count'],tweet[i]['user']['statuses_count'],tweet[i]['user']['created_at'],tweet[i]['user']['protected'] ))\n",
    "\n",
    "# Commit changes to the database\n",
    "conn.commit()\n"
   ]
  },
  {
   "cell_type": "code",
   "execution_count": 105,
   "id": "f3793ffd",
   "metadata": {},
   "outputs": [],
   "source": [
    "# Close the cursor and database connection\n",
    "cursor.close()\n",
    "conn.close()\n"
   ]
  },
  {
   "cell_type": "code",
   "execution_count": null,
   "id": "3ca233a3",
   "metadata": {},
   "outputs": [],
   "source": []
  }
 ],
 "metadata": {
  "kernelspec": {
   "display_name": "Python 3 (ipykernel)",
   "language": "python",
   "name": "python3"
  },
  "language_info": {
   "codemirror_mode": {
    "name": "ipython",
    "version": 3
   },
   "file_extension": ".py",
   "mimetype": "text/x-python",
   "name": "python",
   "nbconvert_exporter": "python",
   "pygments_lexer": "ipython3",
   "version": "3.9.13"
  }
 },
 "nbformat": 4,
 "nbformat_minor": 5
}
