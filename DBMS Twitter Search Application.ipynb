{
 "cells": [
  {
   "cell_type": "markdown",
   "id": "ca67d7e4",
   "metadata": {},
   "source": [
    "# Reading JSON input file and extracting data"
   ]
  },
  {
   "cell_type": "code",
   "execution_count": 94,
   "id": "5df8993f",
   "metadata": {},
   "outputs": [],
   "source": [
    "import json   \n",
    "import pandas as pd"
   ]
  },
  {
   "cell_type": "code",
   "execution_count": 95,
   "id": "410a0707",
   "metadata": {},
   "outputs": [],
   "source": [
    "f1 = open(\"Sample_Data.json\" , 'r')\n",
    "\n",
    "lines = f1.readlines()\n",
    "\n",
    "tweets = {}\n",
    "tweets['tweets'] = []\n",
    "\n",
    "for line in lines:\n",
    "    if line[0] == '{':\n",
    "        tweets['tweets'].append(json.loads(line)) "
   ]
  },
  {
   "cell_type": "code",
   "execution_count": 96,
   "id": "9446e985",
   "metadata": {},
   "outputs": [
    {
     "data": {
      "text/plain": [
       "{'id': 1242817830946508801,\n",
       " 'id_str': '1242817830946508801',\n",
       " 'name': 'juwelz v',\n",
       " 'screen_name': 'juwelz_v',\n",
       " 'location': 'Lower East Side, Manhattan',\n",
       " 'url': 'https://linktr.ee/juwelzv',\n",
       " 'description': 'Event Lyfe LLC .. Brand Ambassador: #visionarysociety Music Manager: @ssizzzlee & @tmoneybeatsbang Production🎥📸 #BringNyCultureBack 🌊🌊🌊 !!',\n",
       " 'translator_type': 'none',\n",
       " 'protected': False,\n",
       " 'verified': False,\n",
       " 'followers_count': 43,\n",
       " 'friends_count': 118,\n",
       " 'listed_count': 0,\n",
       " 'favourites_count': 722,\n",
       " 'statuses_count': 906,\n",
       " 'created_at': 'Wed Mar 25 14:17:28 +0000 2020',\n",
       " 'utc_offset': None,\n",
       " 'time_zone': None,\n",
       " 'geo_enabled': False,\n",
       " 'lang': None,\n",
       " 'contributors_enabled': False,\n",
       " 'is_translator': False,\n",
       " 'profile_background_color': 'F5F8FA',\n",
       " 'profile_background_image_url': '',\n",
       " 'profile_background_image_url_https': '',\n",
       " 'profile_background_tile': False,\n",
       " 'profile_link_color': '1DA1F2',\n",
       " 'profile_sidebar_border_color': 'C0DEED',\n",
       " 'profile_sidebar_fill_color': 'DDEEF6',\n",
       " 'profile_text_color': '333333',\n",
       " 'profile_use_background_image': True,\n",
       " 'profile_image_url': 'http://pbs.twimg.com/profile_images/1246253579805089797/Ks1MrEDW_normal.jpg',\n",
       " 'profile_image_url_https': 'https://pbs.twimg.com/profile_images/1246253579805089797/Ks1MrEDW_normal.jpg',\n",
       " 'profile_banner_url': 'https://pbs.twimg.com/profile_banners/1242817830946508801/1585146985',\n",
       " 'default_profile': True,\n",
       " 'default_profile_image': False,\n",
       " 'following': None,\n",
       " 'follow_request_sent': None,\n",
       " 'notifications': None}"
      ]
     },
     "execution_count": 96,
     "metadata": {},
     "output_type": "execute_result"
    }
   ],
   "source": [
    "tweet = tweets['tweets']\n",
    "tweet[0]['user']"
   ]
  },
  {
   "cell_type": "code",
   "execution_count": 97,
   "id": "5af35425",
   "metadata": {},
   "outputs": [],
   "source": [
    "#df_twitter = pd.DataFrame(tweet)"
   ]
  },
  {
   "cell_type": "code",
   "execution_count": 98,
   "id": "0e262c0f",
   "metadata": {},
   "outputs": [],
   "source": [
    "#df_twitter.head(2)"
   ]
  },
  {
   "cell_type": "code",
   "execution_count": 99,
   "id": "c5cde4d1",
   "metadata": {},
   "outputs": [],
   "source": [
    "#df_twitter_user = df_twitter[['user']]\n",
    "#df_twitter_user.head(5)"
   ]
  },
  {
   "cell_type": "code",
   "execution_count": 100,
   "id": "0bfef974",
   "metadata": {},
   "outputs": [
    {
     "data": {
      "text/plain": [
       "'1242817830946508801'"
      ]
     },
     "execution_count": 100,
     "metadata": {},
     "output_type": "execute_result"
    }
   ],
   "source": [
    "tweet[0]['user']['id_str']\n"
   ]
  },
  {
   "cell_type": "code",
   "execution_count": 132,
   "id": "6cbbfdee",
   "metadata": {},
   "outputs": [
    {
     "data": {
      "text/plain": [
       "2001"
      ]
     },
     "execution_count": 132,
     "metadata": {},
     "output_type": "execute_result"
    }
   ],
   "source": [
    "len(tweet)"
   ]
  },
  {
   "cell_type": "markdown",
   "id": "36409f70",
   "metadata": {},
   "source": [
    "# Connection to postgresql database"
   ]
  },
  {
   "cell_type": "code",
   "execution_count": 133,
   "id": "ea3d4c4f",
   "metadata": {},
   "outputs": [],
   "source": [
    "import psycopg2 # psycopg2 is a PostgreSQL database adapter for the Python , and it provides a Python interface for connecting to and interacting with PostgreSQL databases."
   ]
  },
  {
   "cell_type": "code",
   "execution_count": 134,
   "id": "50f6fb35",
   "metadata": {},
   "outputs": [],
   "source": [
    "\n",
    "# Connect to the PostgreSQL database\n",
    "conn = psycopg2.connect(\n",
    "    host=\"localhost\",\n",
    "    database=\"TwitterDatabase\",\n",
    "    user=\"postgres\",\n",
    "    password=\"India@2194\"\n",
    ")\n"
   ]
  },
  {
   "cell_type": "markdown",
   "id": "7e2bee11",
   "metadata": {},
   "source": [
    "### Creating a cursor object to execute PostgreSQL commands"
   ]
  },
  {
   "cell_type": "code",
   "execution_count": 138,
   "id": "8154a7c6",
   "metadata": {},
   "outputs": [],
   "source": [
    "# Create a cursor object to execute PostgreSQL commands\n",
    "cursor = conn.cursor()"
   ]
  },
  {
   "cell_type": "markdown",
   "id": "363910f8",
   "metadata": {},
   "source": [
    "#### Creating a list(cache) to check and avoid adding duplicate records into the database"
   ]
  },
  {
   "cell_type": "code",
   "execution_count": 139,
   "id": "de025e89",
   "metadata": {},
   "outputs": [],
   "source": [
    "tweet_user_list = list()"
   ]
  },
  {
   "cell_type": "code",
   "execution_count": 140,
   "id": "e0e2b2ca",
   "metadata": {},
   "outputs": [],
   "source": [
    "cursor.execute(\"s\""
   ]
  },
  {
   "cell_type": "markdown",
   "id": "304240ee",
   "metadata": {},
   "source": [
    "# Inserting input data into the relational database"
   ]
  },
  {
   "cell_type": "code",
   "execution_count": 141,
   "id": "373f063f",
   "metadata": {},
   "outputs": [
    {
     "name": "stdout",
     "output_type": "stream",
     "text": [
      "Total rows of data available:  2001\n",
      "inserted_rows_count:  1851\n",
      "Skipped_rows_count:  150\n"
     ]
    }
   ],
   "source": [
    "print(\"Total rows of data available: \",len(tweet))\n",
    "\n",
    "inserted_rows_count = 0\n",
    "Skipped_rows_count = 0\n",
    "\n",
    "for i in range(0,len(tweet)):\n",
    "    try:\n",
    "        if (tweet[i]['user']['id_str']) not in tweet_user_list:\n",
    "            \n",
    "            cursor.execute(\"INSERT INTO users (id_str,screen_name,description,verified,followers_count,friends_count ,listed_count ,favourites_count,statuses_count,created_at ,protected) VALUES (%s, %s, %s, %s, %s, %s, %s, %s, %s, %s, %s)\", (tweet[i]['user']['id_str'],tweet[i]['user']['screen_name'],tweet[i]['user']['description'],tweet[i]['user']['verified'],tweet[i]['user']['followers_count'],tweet[i]['user']['friends_count'],tweet[i]['user']['listed_count'],tweet[i]['user']['favourites_count'],tweet[i]['user']['statuses_count'],tweet[i]['user']['created_at'],tweet[i]['user']['protected'] ))\n",
    "            #print('Record inserted --------------------------------------------------------------------------------->')\n",
    "            \n",
    "            tweet_user_list.append(tweet[i]['user']['id_str'])\n",
    "            \n",
    "            inserted_rows_count = inserted_rows_count + 1\n",
    "            \n",
    "        else:\n",
    "            Skipped_rows_count = Skipped_rows_count + 1\n",
    "            continue\n",
    "            \n",
    "    except Exception as e:\n",
    "        print(\"Error encountered:\",e)\n",
    "        conn.commit()\n",
    "        # Roll back the transaction\n",
    "        conn.rollback()\n",
    "        continue\n",
    "\n",
    "conn.commit()\n",
    "\n",
    "print(\"inserted_rows_count: \",inserted_rows_count)\n",
    "print(\"Skipped_rows_count: \",Skipped_rows_count)\n"
   ]
  },
  {
   "cell_type": "code",
   "execution_count": 142,
   "id": "36535b2a",
   "metadata": {},
   "outputs": [
    {
     "name": "stdout",
     "output_type": "stream",
     "text": [
      "2001\n"
     ]
    }
   ],
   "source": [
    "print(c)"
   ]
  },
  {
   "cell_type": "code",
   "execution_count": 143,
   "id": "f3793ffd",
   "metadata": {},
   "outputs": [],
   "source": [
    "# Close the cursor and database connection\n",
    "cursor.close()\n",
    "conn.close()\n"
   ]
  },
  {
   "cell_type": "code",
   "execution_count": null,
   "id": "3ca233a3",
   "metadata": {},
   "outputs": [],
   "source": []
  },
  {
   "cell_type": "code",
   "execution_count": null,
   "id": "09ce334d",
   "metadata": {},
   "outputs": [],
   "source": []
  }
 ],
 "metadata": {
  "kernelspec": {
   "display_name": "Python 3 (ipykernel)",
   "language": "python",
   "name": "python3"
  },
  "language_info": {
   "codemirror_mode": {
    "name": "ipython",
    "version": 3
   },
   "file_extension": ".py",
   "mimetype": "text/x-python",
   "name": "python",
   "nbconvert_exporter": "python",
   "pygments_lexer": "ipython3",
   "version": "3.9.13"
  }
 },
 "nbformat": 4,
 "nbformat_minor": 5
}
