{
 "cells": [
  {
   "cell_type": "markdown",
   "id": "ca67d7e4",
   "metadata": {},
   "source": [
    "# Reading JSON input file and extracting data"
   ]
  },
  {
   "cell_type": "code",
   "execution_count": 1,
   "id": "5df8993f",
   "metadata": {},
   "outputs": [],
   "source": [
    "import json   \n",
    "import pandas as pd\n",
    "import traceback"
   ]
  },
  {
   "cell_type": "code",
   "execution_count": 2,
   "id": "410a0707",
   "metadata": {},
   "outputs": [],
   "source": [
    "f1 = open(\"Sample_Data.json\" , 'r')\n",
    "\n",
    "lines = f1.readlines()\n",
    "\n",
    "tweets = {}\n",
    "tweets['tweets'] = []\n",
    "\n",
    "for line in lines:\n",
    "    if line[0] == '{':\n",
    "        tweets['tweets'].append(json.loads(line)) "
   ]
  },
  {
   "cell_type": "code",
   "execution_count": 3,
   "id": "9446e985",
   "metadata": {},
   "outputs": [],
   "source": [
    "tweet = tweets['tweets']\n",
    "#tweet[0]\n",
    "#tweet[0]['retweeted_status']['user']"
   ]
  },
  {
   "cell_type": "code",
   "execution_count": 4,
   "id": "5af35425",
   "metadata": {},
   "outputs": [],
   "source": [
    "#df_twitter = pd.DataFrame(tweet)"
   ]
  },
  {
   "cell_type": "code",
   "execution_count": 5,
   "id": "0e262c0f",
   "metadata": {},
   "outputs": [],
   "source": [
    "#df_twitter.head(2)"
   ]
  },
  {
   "cell_type": "code",
   "execution_count": 6,
   "id": "c5cde4d1",
   "metadata": {},
   "outputs": [],
   "source": [
    "#df_twitter_user = df_twitter[['user']]\n",
    "#df_twitter_user.head(5)"
   ]
  },
  {
   "cell_type": "code",
   "execution_count": 7,
   "id": "0bfef974",
   "metadata": {},
   "outputs": [
    {
     "data": {
      "text/plain": [
       "'1242817830946508801'"
      ]
     },
     "execution_count": 7,
     "metadata": {},
     "output_type": "execute_result"
    }
   ],
   "source": [
    "tweet[0]['user']['id_str']"
   ]
  },
  {
   "cell_type": "code",
   "execution_count": 8,
   "id": "6cbbfdee",
   "metadata": {},
   "outputs": [
    {
     "data": {
      "text/plain": [
       "2001"
      ]
     },
     "execution_count": 8,
     "metadata": {},
     "output_type": "execute_result"
    }
   ],
   "source": [
    "len(tweet)"
   ]
  },
  {
   "cell_type": "markdown",
   "id": "365fe57b",
   "metadata": {},
   "source": [
    "## Connection to postgresql database"
   ]
  },
  {
   "cell_type": "code",
   "execution_count": 83,
   "id": "2fafb41d",
   "metadata": {},
   "outputs": [],
   "source": [
    "import psycopg2 # psycopg2 is a PostgreSQL database adapter for the Python , and it provides a Python interface for connecting to and interacting with PostgreSQL databases."
   ]
  },
  {
   "cell_type": "code",
   "execution_count": 84,
   "id": "c5709cc0",
   "metadata": {},
   "outputs": [],
   "source": [
    "# Connect to the PostgreSQL database\n",
    "conn = psycopg2.connect(\n",
    "    host=\"localhost\",\n",
    "    database=\"TwitterDatabase\",\n",
    "    user=\"postgres\",\n",
    "    password=\"India@2194\"\n",
    ")\n"
   ]
  },
  {
   "cell_type": "code",
   "execution_count": 85,
   "id": "de82c7c6",
   "metadata": {},
   "outputs": [],
   "source": [
    "# Create a cursor object to execute PostgreSQL commands\n",
    "cursor = conn.cursor()"
   ]
  },
  {
   "cell_type": "code",
   "execution_count": 86,
   "id": "63f73a54",
   "metadata": {},
   "outputs": [],
   "source": [
    "#cursor.execute(\"CREATE DATABASE TestDB\")\n",
    "#conn.commit()"
   ]
  },
  {
   "cell_type": "markdown",
   "id": "c593cff9",
   "metadata": {},
   "source": [
    "## Create users table in postgres"
   ]
  },
  {
   "cell_type": "code",
   "execution_count": 72,
   "id": "34d7a358",
   "metadata": {},
   "outputs": [],
   "source": [
    "#Create users table\n",
    "\n",
    "cursor.execute(\"\"\"\n",
    "    CREATE TABLE users (\n",
    "        id_str VARCHAR(50) PRIMARY KEY UNIQUE,\n",
    "        name VARCHAR(500),\n",
    "        screen_name VARCHAR(500),\n",
    "        description VARCHAR(5000),\n",
    "        verified BOOLEAN,\n",
    "        followers_count INT,\n",
    "        friends_count INT,\n",
    "        favourites_count INT,\n",
    "        statuses_count INT,\n",
    "        created_at TIMESTAMP,\n",
    "        protected BOOLEAN\n",
    "    )\n",
    "\"\"\")\n",
    "\n",
    "\n",
    "conn.commit()"
   ]
  },
  {
   "cell_type": "code",
   "execution_count": 87,
   "id": "ef55f0c9",
   "metadata": {},
   "outputs": [],
   "source": [
    "#datetime conversion\n",
    "def convert_timestamp(created_at):\n",
    "    timestamp_obj = datetime.strptime(created_at, '%a %b %d %H:%M:%S %z %Y')\n",
    "    created_at = datetime.utcfromtimestamp(timestamp_obj.replace(tzinfo=timezone.utc).timestamp())\n",
    "    return created_at"
   ]
  },
  {
   "cell_type": "code",
   "execution_count": 88,
   "id": "347024f8",
   "metadata": {},
   "outputs": [],
   "source": [
    "import datetime\n",
    "# Get the current time as a datetime object\n",
    "now = datetime.datetime.now()"
   ]
  },
  {
   "cell_type": "code",
   "execution_count": 89,
   "id": "93daa7ec",
   "metadata": {},
   "outputs": [],
   "source": [
    "tweet_user_list = list()"
   ]
  },
  {
   "cell_type": "markdown",
   "id": "56ea3af0",
   "metadata": {},
   "source": [
    "## Insert records in users table"
   ]
  },
  {
   "cell_type": "code",
   "execution_count": 91,
   "id": "eb48dd5e",
   "metadata": {},
   "outputs": [
    {
     "name": "stdout",
     "output_type": "stream",
     "text": [
      "Started inserting rows at time: 18:12:04.746159\n",
      "Total rows of data available:  2001\n",
      "Inserted_rows_count:  1851\n",
      "Skipped_rows_count:  150\n",
      "Finished inserting rows at time: 18:12:04.746159\n"
     ]
    }
   ],
   "source": [
    "# insert query with values to be inserted\n",
    "print(\"Started inserting rows at time:\",now.time())\n",
    "\n",
    "print(\"Total rows of data available: \",len(tweet))\n",
    "\n",
    "inserted_rows_count = 0\n",
    "Skipped_rows_count = 0\n",
    "\n",
    "user_count = len(tweet)\n",
    "\n",
    "for i in range(0,len(tweet)):\n",
    "    try:\n",
    "        if (tweet[i]['user']['id_str']) not in tweet_user_list:            \n",
    "            \n",
    "            if  user_count > 0 :\n",
    "                \n",
    "            # Inserting user data user field\n",
    "                cursor.execute(\"INSERT INTO users (id_str,name,screen_name,description,verified,followers_count,friends_count ,favourites_count,statuses_count,created_at ,protected) VALUES (%s, %s, %s, %s, %s, %s, %s, %s, %s, %s, %s)\", (tweet[i]['user']['id_str'],tweet[i]['user']['name'],tweet[i]['user']['screen_name'],tweet[i]['user']['description'],tweet[i]['user']['verified'],tweet[i]['user']['followers_count'],tweet[i]['user']['friends_count'],tweet[i]['user']['favourites_count'],tweet[i]['user']['statuses_count'],tweet[i]['user']['created_at'],tweet[i]['user']['protected'] ))\n",
    "                #print('Record inserted1 ----------->')\n",
    "                tweet_user_list.append(tweet[i]['user']['id_str'])\n",
    "                inserted_rows_count = inserted_rows_count + 1\n",
    "            \n",
    "            # Inserting user data from Retweeted status field\n",
    "            else:                \n",
    "                \n",
    "                cursor.execute(\"INSERT INTO users (id_str,name,screen_name,description,verified,followers_count,friends_count,favourites_count,statuses_count,created_at ,protected) VALUES (%s, %s, %s, %s, %s, %s, %s, %s, %s, %s, %s)\", (tweet[i]['retweeted_status']['user']['id_str'],tweet[i]['retweeted_status']['user']['name'],tweet[i]['retweeted_status']['user']['screen_name'],tweet[i]['retweeted_status']['user']['description'],tweet[i]['user']['verified'],tweet[i]['retweeted_status']['user']['followers_count'],tweet[i]['retweeted_status']['user']['friends_count'],tweet[i]['retweeted_status']['user']['favourites_count'],tweet[i]['retweeted_status']['user']['statuses_count'],tweet[i]['retweeted_status']['user']['created_at'],tweet[i]['retweeted_status']['user']['protected'] ))\n",
    "                #print('Record inserted2 ---------------->')\n",
    "                tweet_user_list.append(tweet[i]['retweeted_status']['user']['id_str'])\n",
    "                inserted_rows_count = inserted_rows_count + 1\n",
    "                      \n",
    "        else:\n",
    "            \n",
    "            Skipped_rows_count = Skipped_rows_count + 1\n",
    "            continue\n",
    "            \n",
    "    except Exception as e:\n",
    "        print(\"Error encountered:\",e)\n",
    "        print(\"Trace:\")\n",
    "        traceback.print_exc()\n",
    "        conn.commit()\n",
    "        # Roll back the transaction\n",
    "        conn.rollback()\n",
    "        continue\n",
    "\n",
    "conn.commit()\n",
    "\n",
    "print(\"Inserted_rows_count: \",inserted_rows_count)\n",
    "print(\"Skipped_rows_count: \",Skipped_rows_count)\n",
    "print(\"Finished inserting rows at time:\",now.time())\n"
   ]
  },
  {
   "cell_type": "code",
   "execution_count": null,
   "id": "5728309f",
   "metadata": {},
   "outputs": [],
   "source": []
  }
 ],
 "metadata": {
  "kernelspec": {
   "display_name": "Python 3 (ipykernel)",
   "language": "python",
   "name": "python3"
  },
  "language_info": {
   "codemirror_mode": {
    "name": "ipython",
    "version": 3
   },
   "file_extension": ".py",
   "mimetype": "text/x-python",
   "name": "python",
   "nbconvert_exporter": "python",
   "pygments_lexer": "ipython3",
   "version": "3.9.13"
  }
 },
 "nbformat": 4,
 "nbformat_minor": 5
}
