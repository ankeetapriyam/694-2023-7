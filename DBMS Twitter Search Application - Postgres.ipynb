{
 "cells": [
  {
   "cell_type": "markdown",
   "id": "ca67d7e4",
   "metadata": {},
   "source": [
    "# Reading JSON input file and extracting data"
   ]
  },
  {
   "cell_type": "code",
   "execution_count": 1,
   "id": "5df8993f",
   "metadata": {},
   "outputs": [],
   "source": [
    "import json   \n",
    "import pandas as pd\n",
    "import traceback"
   ]
  },
  {
   "cell_type": "code",
   "execution_count": 2,
   "id": "410a0707",
   "metadata": {},
   "outputs": [],
   "source": [
    "f1 = open(\"corona-out-3.json\" , 'r')\n",
    "\n",
    "lines = f1.readlines()\n",
    "\n",
    "tweets = {}\n",
    "tweets['tweets'] = []\n",
    "\n",
    "for line in lines:\n",
    "    if line[0] == '{':\n",
    "        tweets['tweets'].append(json.loads(line)) "
   ]
  },
  {
   "cell_type": "code",
   "execution_count": 3,
   "id": "9446e985",
   "metadata": {},
   "outputs": [],
   "source": [
    "tweet = tweets['tweets']"
   ]
  },
  {
   "cell_type": "code",
   "execution_count": 7,
   "id": "0bfef974",
   "metadata": {},
   "outputs": [
    {
     "data": {
      "text/plain": [
       "'804046791348015107'"
      ]
     },
     "execution_count": 7,
     "metadata": {},
     "output_type": "execute_result"
    }
   ],
   "source": [
    "tweet[0]['user']['id_str']"
   ]
  },
  {
   "cell_type": "code",
   "execution_count": 8,
   "id": "6cbbfdee",
   "metadata": {},
   "outputs": [
    {
     "data": {
      "text/plain": [
       "101916"
      ]
     },
     "execution_count": 8,
     "metadata": {},
     "output_type": "execute_result"
    }
   ],
   "source": [
    "len(tweet)"
   ]
  },
  {
   "cell_type": "markdown",
   "id": "2da82e79",
   "metadata": {},
   "source": [
    "## Connection to postgresql database"
   ]
  },
  {
   "cell_type": "code",
   "execution_count": 18,
   "id": "2fafb41d",
   "metadata": {},
   "outputs": [],
   "source": [
    "import psycopg2 # psycopg2 is a PostgreSQL database adapter for the Python , and it provides a Python interface for connecting to and interacting with PostgreSQL databases."
   ]
  },
  {
   "cell_type": "code",
   "execution_count": 19,
   "id": "a8eaef5f",
   "metadata": {},
   "outputs": [],
   "source": [
    "# Connect to the PostgreSQL database\n",
    "conn = psycopg2.connect(\n",
    "    host=\"localhost\",\n",
    "    database=\"TwitterDatabase\",\n",
    "    user=\"postgres\",\n",
    "    password=\"India@2194\"\n",
    ")\n"
   ]
  },
  {
   "cell_type": "code",
   "execution_count": 20,
   "id": "e0647541",
   "metadata": {},
   "outputs": [],
   "source": [
    "# Create a cursor object to execute PostgreSQL commands\n",
    "cursor = conn.cursor()"
   ]
  },
  {
   "cell_type": "markdown",
   "id": "479a5a7b",
   "metadata": {},
   "source": [
    "## Create users table in postgres"
   ]
  },
  {
   "cell_type": "code",
   "execution_count": 22,
   "id": "df8d2c24",
   "metadata": {},
   "outputs": [],
   "source": [
    "#Create users table\n",
    "\n",
    "cursor.execute(\"\"\"\n",
    "    CREATE TABLE users18 (\n",
    "        id_str VARCHAR(50) PRIMARY KEY UNIQUE,\n",
    "        name VARCHAR(500),\n",
    "        screen_name VARCHAR(500),\n",
    "        description VARCHAR(5000),\n",
    "        verified BOOLEAN,\n",
    "        followers_count INT,\n",
    "        friends_count INT,\n",
    "        favourites_count INT,\n",
    "        statuses_count INT,\n",
    "        created_at TIMESTAMP,\n",
    "        protected BOOLEAN\n",
    "    )\n",
    "\"\"\")\n",
    "\n",
    "conn.commit()"
   ]
  },
  {
   "cell_type": "code",
   "execution_count": 23,
   "id": "45baba56",
   "metadata": {},
   "outputs": [],
   "source": [
    "#datetime conversion\n",
    "def convert_timestamp(created_at):\n",
    "    timestamp_obj = datetime.strptime(created_at, '%a %b %d %H:%M:%S %z %Y')\n",
    "    created_at = datetime.utcfromtimestamp(timestamp_obj.replace(tzinfo=timezone.utc).timestamp())\n",
    "    return created_at"
   ]
  },
  {
   "cell_type": "code",
   "execution_count": 24,
   "id": "39272c5a",
   "metadata": {},
   "outputs": [],
   "source": [
    "import datetime\n",
    "# Get the current time as a datetime object\n",
    "now = datetime.datetime.now()"
   ]
  },
  {
   "cell_type": "code",
   "execution_count": 25,
   "id": "b7cfb152",
   "metadata": {},
   "outputs": [],
   "source": [
    "tweet_user_list = list()"
   ]
  },
  {
   "cell_type": "markdown",
   "id": "aed9323d",
   "metadata": {},
   "source": [
    "## Insert records in users table"
   ]
  },
  {
   "cell_type": "code",
   "execution_count": 26,
   "id": "30673d16",
   "metadata": {},
   "outputs": [
    {
     "name": "stdout",
     "output_type": "stream",
     "text": [
      "Started inserting rows at time: 2023-04-27 19:00:39.097210\n",
      "Total rows of data available:  101916\n",
      "Inserted_rows_count:  80943\n",
      "Skipped_rows_count:  20973\n",
      "Finished inserting rows at time: 2023-04-27 19:06:26.430559\n"
     ]
    }
   ],
   "source": [
    "# insert query with values to be inserted\n",
    "print(\"Started inserting rows at time:\",datetime.datetime.now())\n",
    "\n",
    "print(\"Total rows of data available: \",len(tweet))\n",
    "\n",
    "inserted_rows_count = 0\n",
    "Skipped_rows_count = 0\n",
    "\n",
    "user_count = len(tweet)\n",
    "\n",
    "for i in range(0,len(tweet)):\n",
    "    try:\n",
    "        if (tweet[i]['user']['id_str']) not in tweet_user_list:            \n",
    "            \n",
    "            if  user_count > 0 :\n",
    "                \n",
    "            # Inserting user data user field\n",
    "                #print(tweet[i]['user']['id_str'])\n",
    "                cursor.execute(\"INSERT INTO users18 (id_str,name,screen_name,description,verified,followers_count,friends_count ,favourites_count,statuses_count,created_at ,protected) VALUES (%s, %s, %s, %s, %s, %s, %s, %s, %s, %s, %s)\", (tweet[i]['user']['id_str'],tweet[i]['user']['name'],tweet[i]['user']['screen_name'],tweet[i]['user']['description'],tweet[i]['user']['verified'],tweet[i]['user']['followers_count'],tweet[i]['user']['friends_count'],tweet[i]['user']['favourites_count'],tweet[i]['user']['statuses_count'],tweet[i]['user']['created_at'],tweet[i]['user']['protected'] ))\n",
    "                #print('Record inserted1 ----------->')\n",
    "                tweet_user_list.append(tweet[i]['user']['id_str'])\n",
    "                inserted_rows_count = inserted_rows_count + 1\n",
    "            \n",
    "            # Inserting user data from Retweeted status field\n",
    "            else:                \n",
    "                \n",
    "                cursor.execute(\"INSERT INTO users18 (id_str,name,screen_name,description,verified,followers_count,friends_count,favourites_count,statuses_count,created_at ,protected) VALUES (%s, %s, %s, %s, %s, %s, %s, %s, %s, %s, %s)\", (tweet[i]['retweeted_status']['user']['id_str'],tweet[i]['retweeted_status']['user']['name'],tweet[i]['retweeted_status']['user']['screen_name'],tweet[i]['retweeted_status']['user']['description'],tweet[i]['user']['verified'],tweet[i]['retweeted_status']['user']['followers_count'],tweet[i]['retweeted_status']['user']['friends_count'],tweet[i]['retweeted_status']['user']['favourites_count'],tweet[i]['retweeted_status']['user']['statuses_count'],tweet[i]['retweeted_status']['user']['created_at'],tweet[i]['retweeted_status']['user']['protected'] ))\n",
    "                #print('Record inserted2 ---------------->')\n",
    "                tweet_user_list.append(tweet[i]['retweeted_status']['user']['id_str'])\n",
    "                inserted_rows_count = inserted_rows_count + 1\n",
    "                      \n",
    "        else:\n",
    "            \n",
    "            Skipped_rows_count = Skipped_rows_count + 1\n",
    "            continue\n",
    "            \n",
    "    except Exception as e:\n",
    "        print(\"Error encountered:\",e)\n",
    "        print(\"Trace:\")\n",
    "        traceback.print_exc()\n",
    "        conn.commit()\n",
    "        # Roll back the transaction\n",
    "        conn.rollback()\n",
    "        continue\n",
    "\n",
    "conn.commit()\n",
    "\n",
    "print(\"Inserted_rows_count: \",inserted_rows_count)\n",
    "print(\"Skipped_rows_count: \",Skipped_rows_count)\n",
    "print(\"Finished inserting rows at time:\",datetime.datetime.now())\n"
   ]
  },
  {
   "cell_type": "code",
   "execution_count": null,
   "id": "5dbb6220",
   "metadata": {},
   "outputs": [],
   "source": []
  }
 ],
 "metadata": {
  "kernelspec": {
   "display_name": "Python 3 (ipykernel)",
   "language": "python",
   "name": "python3"
  },
  "language_info": {
   "codemirror_mode": {
    "name": "ipython",
    "version": 3
   },
   "file_extension": ".py",
   "mimetype": "text/x-python",
   "name": "python",
   "nbconvert_exporter": "python",
   "pygments_lexer": "ipython3",
   "version": "3.9.13"
  }
 },
 "nbformat": 4,
 "nbformat_minor": 5
}
